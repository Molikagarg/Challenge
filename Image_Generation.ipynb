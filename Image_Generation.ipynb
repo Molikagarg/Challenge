{
  "cells": [
    {
      "cell_type": "code",
      "execution_count": 13,
      "metadata": {
        "id": "b-HLtNuU41IU",
        "outputId": "bddf1ad3-8d0e-45a4-f7f9-24d7e79d14cc",
        "colab": {
          "base_uri": "https://localhost:8080/"
        }
      },
      "outputs": [
        {
          "output_type": "stream",
          "name": "stdout",
          "text": [
            "Requirement already satisfied: openai==1.13.3 in /usr/local/lib/python3.10/dist-packages (1.13.3)\n",
            "Requirement already satisfied: anyio<5,>=3.5.0 in /usr/local/lib/python3.10/dist-packages (from openai==1.13.3) (3.7.1)\n",
            "Requirement already satisfied: distro<2,>=1.7.0 in /usr/lib/python3/dist-packages (from openai==1.13.3) (1.7.0)\n",
            "Requirement already satisfied: httpx<1,>=0.23.0 in /usr/local/lib/python3.10/dist-packages (from openai==1.13.3) (0.27.2)\n",
            "Requirement already satisfied: pydantic<3,>=1.9.0 in /usr/local/lib/python3.10/dist-packages (from openai==1.13.3) (2.8.2)\n",
            "Requirement already satisfied: sniffio in /usr/local/lib/python3.10/dist-packages (from openai==1.13.3) (1.3.1)\n",
            "Requirement already satisfied: tqdm>4 in /usr/local/lib/python3.10/dist-packages (from openai==1.13.3) (4.66.5)\n",
            "Requirement already satisfied: typing-extensions<5,>=4.7 in /usr/local/lib/python3.10/dist-packages (from openai==1.13.3) (4.12.2)\n",
            "Requirement already satisfied: idna>=2.8 in /usr/local/lib/python3.10/dist-packages (from anyio<5,>=3.5.0->openai==1.13.3) (3.8)\n",
            "Requirement already satisfied: exceptiongroup in /usr/local/lib/python3.10/dist-packages (from anyio<5,>=3.5.0->openai==1.13.3) (1.2.2)\n",
            "Requirement already satisfied: certifi in /usr/local/lib/python3.10/dist-packages (from httpx<1,>=0.23.0->openai==1.13.3) (2024.8.30)\n",
            "Requirement already satisfied: httpcore==1.* in /usr/local/lib/python3.10/dist-packages (from httpx<1,>=0.23.0->openai==1.13.3) (1.0.5)\n",
            "Requirement already satisfied: h11<0.15,>=0.13 in /usr/local/lib/python3.10/dist-packages (from httpcore==1.*->httpx<1,>=0.23.0->openai==1.13.3) (0.14.0)\n",
            "Requirement already satisfied: annotated-types>=0.4.0 in /usr/local/lib/python3.10/dist-packages (from pydantic<3,>=1.9.0->openai==1.13.3) (0.7.0)\n",
            "Requirement already satisfied: pydantic-core==2.20.1 in /usr/local/lib/python3.10/dist-packages (from pydantic<3,>=1.9.0->openai==1.13.3) (2.20.1)\n"
          ]
        }
      ],
      "source": [
        "!pip install openai==1.13.3"
      ]
    },
    {
      "cell_type": "code",
      "execution_count": 14,
      "metadata": {
        "id": "lQ4EE88642D1"
      },
      "outputs": [],
      "source": [
        "# Add Azure OpenAI package\n",
        "from openai import AzureOpenAI\n",
        "import requests"
      ]
    },
    {
      "cell_type": "code",
      "execution_count": 16,
      "metadata": {
        "id": "2HEcAONL5Ava"
      },
      "outputs": [],
      "source": [
        "#Set the API Keys, Endpoint and Model Deployment\n",
        "azure_oai_endpoint =\"https://pikapikachu.openai.azure.com/\"\n",
        "azure_oai_key =\"1129ab8034e748a2bcd43ba3dd4f8f04\"\n",
        "azure_oai_deployment =\"mydalle\"\n"
      ]
    },
    {
      "cell_type": "code",
      "execution_count": 18,
      "metadata": {
        "id": "59ibC7bv5FDV"
      },
      "outputs": [],
      "source": [
        "# Initialize the Azure OpenAI client\n",
        "azure_endpoint = azure_oai_endpoint\n",
        "api_key=azure_oai_key\n",
        "api_version=\"2024-02-15-preview\"\n",
        "\n",
        "\n"
      ]
    },
    {
      "cell_type": "code",
      "execution_count": 19,
      "metadata": {
        "id": "0FSiaBhB6fzd",
        "outputId": "90b86bb5-c385-450f-ee2c-4228e423e81f",
        "colab": {
          "base_uri": "https://localhost:8080/"
        }
      },
      "outputs": [
        {
          "name": "stdout",
          "output_type": "stream",
          "text": [
            "\n",
            "Enter a prompt to request an image: Tree\n"
          ]
        }
      ],
      "source": [
        "# Get prompt for image to be generated\n",
        "prompt = input(\"\\nEnter a prompt to request an image: \")"
      ]
    },
    {
      "cell_type": "code",
      "execution_count": 20,
      "metadata": {
        "id": "5aP3Qwwn55Bo"
      },
      "outputs": [],
      "source": [
        "# Call the DALL-E model\n",
        "url = \"{}openai/deployments/dalle3/images/generations?api-version={}\".format(azure_endpoint, api_version)\n",
        "headers= { \"api-key\": api_key, \"Content-Type\": \"application/json\" }\n",
        "body = {\n",
        "            \"prompt\": prompt,\n",
        "            \"n\": 1,\n",
        "            \"size\": \"1024x1024\"\n",
        "        }"
      ]
    },
    {
      "cell_type": "code",
      "execution_count": 21,
      "metadata": {
        "id": "X1xJZi1w6zK1",
        "outputId": "f05ef630-f7f4-43dc-8c61-f40dfc4780ef",
        "colab": {
          "base_uri": "https://localhost:8080/"
        }
      },
      "outputs": [
        {
          "output_type": "stream",
          "name": "stdout",
          "text": [
            "{\"error\":{\"code\":\"DeploymentNotFound\", \"message\":\"The API deployment for this resource does not exist. If you created the deployment within the last 5 minutes, please wait a moment and try again.\"}}\n"
          ]
        }
      ],
      "source": [
        "response = requests.post(url, headers=headers, json=body)\n",
        "print(response.text)"
      ]
    },
    {
      "cell_type": "code",
      "execution_count": null,
      "metadata": {
        "id": "PQp_r_5N8Lc6"
      },
      "outputs": [],
      "source": [
        " # Get the revised prompt and image URL from the response\n",
        "revised_prompt = response.json()['data'][0]['revised_prompt']\n",
        "image_url = response.json()['data'][0]['url']\n",
        "\n",
        "# Display the URL for the generated image\n",
        "print(revised_prompt)\n",
        "print(image_url)"
      ]
    },
    {
      "cell_type": "code",
      "execution_count": null,
      "metadata": {
        "id": "b2xywcMK8nsR"
      },
      "outputs": [],
      "source": [
        "save_path = 'image_name.jpg'\n",
        "\n",
        "# Download the image and save it to the specified path\n",
        "response = requests.get(image_url)\n",
        "if response.status_code == 200:\n",
        "    with open(save_path, 'wb') as f:\n",
        "        f.write(response.content)\n",
        "    print(f\"Image saved to {save_path}\")\n",
        "else:\n",
        "    print(\"Failed to download the image\")"
      ]
    },
    {
      "cell_type": "code",
      "execution_count": null,
      "metadata": {
        "id": "ERNOLRDm_omL"
      },
      "outputs": [],
      "source": []
    }
  ],
  "metadata": {
    "colab": {
      "provenance": []
    },
    "kernelspec": {
      "display_name": "Python 3",
      "name": "python3"
    },
    "language_info": {
      "name": "python"
    }
  },
  "nbformat": 4,
  "nbformat_minor": 0
}